{
 "cells": [
  {
   "cell_type": "code",
   "execution_count": 1,
   "metadata": {
    "collapsed": true
   },
   "outputs": [],
   "source": [
    "import pandas as pd\n",
    "import numpy as np\n",
    "import geopy.distance\n",
    "from sklearn.cluster import DBSCAN\n",
    "import sys\n",
    "from sklearn.model_selection import train_test_split"
   ]
  },
  {
   "cell_type": "code",
   "execution_count": 14,
   "outputs": [],
   "source": [
    "ccInfo = pd.read_csv('./data/cc_info.csv')\n",
    "transaction = pd.read_csv('./data/transactions.csv')\n",
    "df = pd.merge(ccInfo, transaction, on='credit_card', how='outer')"
   ],
   "metadata": {
    "collapsed": false
   }
  },
  {
   "cell_type": "code",
   "execution_count": 15,
   "outputs": [],
   "source": [
    "df.credit_card_limit = df.credit_card_limit.astype('float64')"
   ],
   "metadata": {
    "collapsed": false
   }
  },
  {
   "cell_type": "code",
   "execution_count": 17,
   "outputs": [],
   "source": [
    "# Assuming df is your merged dataframe\n",
    "# Convert the 'date' column to datetime format\n",
    "df['date'] = pd.to_datetime(df['date'])\n",
    "\n",
    "# Extract hour and day of the week from the 'date' column\n",
    "df['transaction_hour'] = df['date'].dt.hour\n",
    "df['transaction_day_of_week'] = df['date'].dt.dayofweek\n",
    "\n",
    "# Compute transaction amount relative to credit card limit\n",
    "df['transaction_amount_relative_to_limit'] = df['transaction_dollar_amount'] / df['credit_card_limit']\n",
    "\n",
    "# Create new columns to store the results\n",
    "df['transaction_frequency'] = 0\n",
    "df['avg_transaction_amount_24h'] = 0.0\n",
    "\n",
    "# Loop through each unique credit card\n",
    "for card in df['credit_card'].unique():\n",
    "    # Subset the DataFrame to only transactions for this card\n",
    "    card_df = df[df['credit_card'] == card]\n",
    "\n",
    "    # Sort by date\n",
    "    card_df = card_df.sort_values(by='date')\n",
    "\n",
    "    # Calculate time difference between each transaction in hours\n",
    "    time_diffs = card_df['date'].diff().dt.total_seconds() / 3600  # Convert to hours\n",
    "\n",
    "    # Initialize rolling count, sum, and time differences\n",
    "    rolling_count = np.array([1])\n",
    "    rolling_sum = np.array([card_df.iloc[0]['transaction_dollar_amount']])\n",
    "    rolling_time_diffs = np.array([0.0])\n",
    "\n",
    "    # Loop through each transaction\n",
    "    for i in range(1, len(card_df)):\n",
    "        # Get the time difference to the current transaction\n",
    "        time_diff = time_diffs.iloc[i]\n",
    "\n",
    "        # Add the current transaction to the rolling count and sum\n",
    "        rolling_count = np.append(rolling_count, rolling_count[-1] + 1)\n",
    "        rolling_sum = np.append(rolling_sum, rolling_sum[-1] + card_df.iloc[i]['transaction_dollar_amount'])\n",
    "        rolling_time_diffs = np.append(rolling_time_diffs, time_diff + rolling_time_diffs[-1])\n",
    "\n",
    "        # Remove transactions older than 24 hours from the rolling count and sum\n",
    "        while rolling_time_diffs[0] > 24:\n",
    "            rolling_count[-1] = rolling_count[-1] - 1\n",
    "            rolling_sum[-1] = rolling_sum[-1] - card_df.iloc[i - len(rolling_time_diffs)]['transaction_dollar_amount']\n",
    "            rolling_time_diffs = rolling_time_diffs[1:]\n",
    "\n",
    "    # Store the results back in the main DataFrame\n",
    "    df.loc[card_df.index, 'transaction_frequency'] = rolling_count\n",
    "    df.loc[card_df.index, 'avg_transaction_amount_24h'] = rolling_sum / rolling_count"
   ],
   "metadata": {
    "collapsed": false
   }
  },
  {
   "cell_type": "code",
   "execution_count": 19,
   "outputs": [],
   "source": [
    "# Initialize DBSCAN\n",
    "db = DBSCAN(eps=0.3, min_samples=10)\n",
    "\n",
    "# Loop through each unique credit card\n",
    "for card in df['credit_card'].unique():\n",
    "    # Subset the DataFrame to only transactions for this card\n",
    "    card_df = df[df['credit_card'] == card]\n",
    "\n",
    "    # Perform DBSCAN on longitude and latitude\n",
    "    coordinates = card_df[['Lat', 'Long']]\n",
    "    db.fit(coordinates)\n",
    "\n",
    "    # Get the cluster labels\n",
    "    labels = db.labels_\n",
    "\n",
    "    if len(set(labels)) > 1:  # There is at least one cluster\n",
    "        # Calculate the centroid of the largest cluster\n",
    "        largest_cluster = np.argmax(np.bincount(labels[labels != -1]))\n",
    "        centroid = np.mean(coordinates[labels == largest_cluster], axis=0)\n",
    "\n",
    "        # Calculate the distance to the centroid for each transaction\n",
    "        distances = []\n",
    "        for i in range(len(card_df)):\n",
    "            coords_1 = (card_df.iloc[i]['Lat'], card_df.iloc[i]['Long'])\n",
    "            coords_2 = (centroid[0], centroid[1])\n",
    "            distances.append(geopy.distance.distance(coords_1, coords_2).km)\n",
    "    else:  # No valid cluster\n",
    "        distances = [sys.float_info.max] * len(card_df)\n",
    "\n",
    "    # Store the results back in the main DataFrame\n",
    "    df.loc[card_df.index, 'distance_from_common_location'] = distances"
   ],
   "metadata": {
    "collapsed": false
   }
  },
  {
   "cell_type": "code",
   "execution_count": 20,
   "outputs": [],
   "source": [
    "df.to_csv('./data/pre-processed-raw.csv', index=False)"
   ],
   "metadata": {
    "collapsed": false
   }
  },
  {
   "cell_type": "code",
   "execution_count": 8,
   "outputs": [],
   "source": [
    "df = df.drop(columns=['city', 'state', 'zipcode', 'date', 'Long', 'Lat', 'transaction_dollar_amount'])"
   ],
   "metadata": {
    "collapsed": false
   }
  },
  {
   "cell_type": "code",
   "execution_count": 13,
   "outputs": [],
   "source": [
    "df.to_csv('./data/pre-processed-clean.csv', index=False)"
   ],
   "metadata": {
    "collapsed": false
   }
  },
  {
   "cell_type": "code",
   "execution_count": null,
   "outputs": [],
   "source": [
    "train, test = train_test_split(df, test_size=0.2)"
   ],
   "metadata": {
    "collapsed": false
   }
  },
  {
   "cell_type": "code",
   "execution_count": null,
   "outputs": [],
   "source": [
    "len(train), len(test)"
   ],
   "metadata": {
    "collapsed": false
   }
  }
 ],
 "metadata": {
  "kernelspec": {
   "display_name": "Python 3",
   "language": "python",
   "name": "python3"
  },
  "language_info": {
   "codemirror_mode": {
    "name": "ipython",
    "version": 2
   },
   "file_extension": ".py",
   "mimetype": "text/x-python",
   "name": "python",
   "nbconvert_exporter": "python",
   "pygments_lexer": "ipython2",
   "version": "2.7.6"
  }
 },
 "nbformat": 4,
 "nbformat_minor": 0
}
