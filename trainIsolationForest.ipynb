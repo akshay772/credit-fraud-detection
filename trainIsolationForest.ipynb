{
 "cells": [
  {
   "cell_type": "code",
   "execution_count": 8,
   "metadata": {
    "collapsed": true
   },
   "outputs": [],
   "source": [
    "import pandas as pd\n",
    "import numpy as np"
   ]
  },
  {
   "cell_type": "code",
   "execution_count": 24,
   "outputs": [],
   "source": [
    "df = pd.read_csv('./data/pre-processed-raw.csv')"
   ],
   "metadata": {
    "collapsed": false
   }
  },
  {
   "cell_type": "code",
   "execution_count": 25,
   "outputs": [
    {
     "data": {
      "text/plain": "        credit_card    city state  zipcode  credit_card_limit  \\\n0  1280981422329509  Dallas    PA    18612             6000.0   \n1  1280981422329509  Dallas    PA    18612             6000.0   \n2  1280981422329509  Dallas    PA    18612             6000.0   \n3  1280981422329509  Dallas    PA    18612             6000.0   \n4  1280981422329509  Dallas    PA    18612             6000.0   \n\n                  date  transaction_dollar_amount       Long        Lat  \\\n0  2015-08-05 00:59:19                      11.94 -75.964527  41.353578   \n1  2015-10-29 18:23:04                       5.76 -76.019703  41.311467   \n2  2015-10-25 17:50:48                      25.84 -76.043031  41.291053   \n3  2015-09-05 17:39:43                      68.89 -75.944299  41.327282   \n4  2015-09-04 14:12:59                      27.01 -75.997259  41.352099   \n\n   transaction_hour  transaction_day_of_week  \\\n0                 0                        2   \n1                18                        3   \n2                17                        6   \n3                17                        5   \n4                14                        4   \n\n   transaction_amount_relative_to_limit  transaction_frequency  \\\n0                              0.001990                     22   \n1                              0.000960                    316   \n2                              0.004307                    306   \n3                              0.011482                    152   \n4                              0.004502                    146   \n\n   avg_transaction_amount_24h  distance_from_common_location  \n0                   75.664091                       1.191098  \n1                   53.062943                       5.439761  \n2                   53.820163                       8.416689  \n3                   51.474539                       2.935461  \n4                   52.132740                       2.345063  ",
      "text/html": "<div>\n<style scoped>\n    .dataframe tbody tr th:only-of-type {\n        vertical-align: middle;\n    }\n\n    .dataframe tbody tr th {\n        vertical-align: top;\n    }\n\n    .dataframe thead th {\n        text-align: right;\n    }\n</style>\n<table border=\"1\" class=\"dataframe\">\n  <thead>\n    <tr style=\"text-align: right;\">\n      <th></th>\n      <th>credit_card</th>\n      <th>city</th>\n      <th>state</th>\n      <th>zipcode</th>\n      <th>credit_card_limit</th>\n      <th>date</th>\n      <th>transaction_dollar_amount</th>\n      <th>Long</th>\n      <th>Lat</th>\n      <th>transaction_hour</th>\n      <th>transaction_day_of_week</th>\n      <th>transaction_amount_relative_to_limit</th>\n      <th>transaction_frequency</th>\n      <th>avg_transaction_amount_24h</th>\n      <th>distance_from_common_location</th>\n    </tr>\n  </thead>\n  <tbody>\n    <tr>\n      <th>0</th>\n      <td>1280981422329509</td>\n      <td>Dallas</td>\n      <td>PA</td>\n      <td>18612</td>\n      <td>6000.0</td>\n      <td>2015-08-05 00:59:19</td>\n      <td>11.94</td>\n      <td>-75.964527</td>\n      <td>41.353578</td>\n      <td>0</td>\n      <td>2</td>\n      <td>0.001990</td>\n      <td>22</td>\n      <td>75.664091</td>\n      <td>1.191098</td>\n    </tr>\n    <tr>\n      <th>1</th>\n      <td>1280981422329509</td>\n      <td>Dallas</td>\n      <td>PA</td>\n      <td>18612</td>\n      <td>6000.0</td>\n      <td>2015-10-29 18:23:04</td>\n      <td>5.76</td>\n      <td>-76.019703</td>\n      <td>41.311467</td>\n      <td>18</td>\n      <td>3</td>\n      <td>0.000960</td>\n      <td>316</td>\n      <td>53.062943</td>\n      <td>5.439761</td>\n    </tr>\n    <tr>\n      <th>2</th>\n      <td>1280981422329509</td>\n      <td>Dallas</td>\n      <td>PA</td>\n      <td>18612</td>\n      <td>6000.0</td>\n      <td>2015-10-25 17:50:48</td>\n      <td>25.84</td>\n      <td>-76.043031</td>\n      <td>41.291053</td>\n      <td>17</td>\n      <td>6</td>\n      <td>0.004307</td>\n      <td>306</td>\n      <td>53.820163</td>\n      <td>8.416689</td>\n    </tr>\n    <tr>\n      <th>3</th>\n      <td>1280981422329509</td>\n      <td>Dallas</td>\n      <td>PA</td>\n      <td>18612</td>\n      <td>6000.0</td>\n      <td>2015-09-05 17:39:43</td>\n      <td>68.89</td>\n      <td>-75.944299</td>\n      <td>41.327282</td>\n      <td>17</td>\n      <td>5</td>\n      <td>0.011482</td>\n      <td>152</td>\n      <td>51.474539</td>\n      <td>2.935461</td>\n    </tr>\n    <tr>\n      <th>4</th>\n      <td>1280981422329509</td>\n      <td>Dallas</td>\n      <td>PA</td>\n      <td>18612</td>\n      <td>6000.0</td>\n      <td>2015-09-04 14:12:59</td>\n      <td>27.01</td>\n      <td>-75.997259</td>\n      <td>41.352099</td>\n      <td>14</td>\n      <td>4</td>\n      <td>0.004502</td>\n      <td>146</td>\n      <td>52.132740</td>\n      <td>2.345063</td>\n    </tr>\n  </tbody>\n</table>\n</div>"
     },
     "execution_count": 25,
     "metadata": {},
     "output_type": "execute_result"
    }
   ],
   "source": [
    "df.head()"
   ],
   "metadata": {
    "collapsed": false
   }
  },
  {
   "cell_type": "code",
   "execution_count": 26,
   "outputs": [
    {
     "name": "stderr",
     "output_type": "stream",
     "text": [
      "/home/aym-workstation/anaconda3/envs/py3.7/lib/python3.7/site-packages/numpy/core/fromnumeric.py:86: RuntimeWarning: overflow encountered in reduce\n",
      "  return ufunc.reduce(obj, axis, dtype, out, **passkwargs)\n",
      "/home/aym-workstation/anaconda3/envs/py3.7/lib/python3.7/site-packages/sklearn/utils/extmath.py:1020: RuntimeWarning: invalid value encountered in subtract\n",
      "  new_unnormalized_variance -= correction ** 2 / new_sample_count\n",
      "/home/aym-workstation/anaconda3/envs/py3.7/lib/python3.7/site-packages/numpy/core/fromnumeric.py:86: RuntimeWarning: overflow encountered in reduce\n",
      "  return ufunc.reduce(obj, axis, dtype, out, **passkwargs)\n"
     ]
    },
    {
     "name": "stdout",
     "output_type": "stream",
     "text": [
      "             credit_card     city state  zipcode  credit_card_limit  \\\n",
      "38      1280981422329509   Dallas    PA    18612             6000.0   \n",
      "57      1280981422329509   Dallas    PA    18612             6000.0   \n",
      "89      1280981422329509   Dallas    PA    18612             6000.0   \n",
      "199     1280981422329509   Dallas    PA    18612             6000.0   \n",
      "210     1280981422329509   Dallas    PA    18612             6000.0   \n",
      "...                  ...      ...   ...      ...                ...   \n",
      "294034  8259854075192493    Omaha    GA    31821            10000.0   \n",
      "294062  8259854075192493    Omaha    GA    31821            10000.0   \n",
      "294078  8259854075192493    Omaha    GA    31821            10000.0   \n",
      "294137  8259854075192493    Omaha    GA    31821            10000.0   \n",
      "294210  1409322756311484  Houston    PA    15342            15000.0   \n",
      "\n",
      "                       date  transaction_dollar_amount       Long        Lat  \\\n",
      "38      2015-09-26 00:25:53                     860.42 -76.038250  41.382482   \n",
      "57      2015-07-31 20:43:34                     857.56 -75.938646  41.385103   \n",
      "89      2015-08-02 00:16:57                      51.85 -75.892793  41.341462   \n",
      "199     2015-10-06 14:14:48                     878.25 -76.035226  41.411656   \n",
      "210     2015-08-07 00:06:33                     824.47 -75.911692  41.363787   \n",
      "...                     ...                        ...        ...        ...   \n",
      "294034  2015-08-25 19:17:12                     917.19 -84.966005  32.136799   \n",
      "294062  2015-08-12 18:56:09                     851.13 -84.933837  32.173984   \n",
      "294078  2015-08-03 01:24:22                     170.81 -85.044296  32.116667   \n",
      "294137  2015-10-21 17:40:45                     914.95 -84.958848  32.185465   \n",
      "294210  2015-08-08 01:45:46                     885.97 -80.270413  40.307097   \n",
      "\n",
      "        transaction_hour  transaction_day_of_week  \\\n",
      "38                     0                        5   \n",
      "57                    20                        4   \n",
      "89                     0                        6   \n",
      "199                   14                        1   \n",
      "210                    0                        4   \n",
      "...                  ...                      ...   \n",
      "294034                19                        1   \n",
      "294062                18                        2   \n",
      "294078                 1                        0   \n",
      "294137                17                        2   \n",
      "294210                 1                        5   \n",
      "\n",
      "        transaction_amount_relative_to_limit  transaction_frequency  \\\n",
      "38                                  0.143403                    211   \n",
      "57                                  0.142927                      3   \n",
      "89                                  0.008642                      5   \n",
      "199                                 0.146375                    246   \n",
      "210                                 0.137412                     34   \n",
      "...                                      ...                    ...   \n",
      "294034                              0.091719                     69   \n",
      "294062                              0.085113                     39   \n",
      "294078                              0.017081                     11   \n",
      "294137                              0.091495                    210   \n",
      "294210                              0.059065                     47   \n",
      "\n",
      "        avg_transaction_amount_24h  distance_from_common_location    scores  \\\n",
      "38                       54.145735                       7.035974 -0.035457   \n",
      "57                      316.883333                       5.306201 -0.088438   \n",
      "89                      205.694000                       6.577784 -0.008132   \n",
      "199                      54.777073                       9.209260 -0.037450   \n",
      "210                      83.493529                       5.444439 -0.030590   \n",
      "...                            ...                            ...       ...   \n",
      "294034                  133.499275                       1.691704 -0.018695   \n",
      "294062                  129.213077                       6.491629 -0.012028   \n",
      "294078                  138.590000                       6.031681 -0.002148   \n",
      "294137                  122.024476                       6.217960 -0.024993   \n",
      "294210                  118.814468                       8.666515 -0.000052   \n",
      "\n",
      "        anomaly  \n",
      "38           -1  \n",
      "57           -1  \n",
      "89           -1  \n",
      "199          -1  \n",
      "210          -1  \n",
      "...         ...  \n",
      "294034       -1  \n",
      "294062       -1  \n",
      "294078       -1  \n",
      "294137       -1  \n",
      "294210       -1  \n",
      "\n",
      "[2946 rows x 17 columns]\n"
     ]
    }
   ],
   "source": [
    "# Drop unnecessary columns\n",
    "df_clean = df.drop(columns=['date', 'credit_card', 'city', 'state', 'zipcode', 'credit_card_limit', 'transaction_dollar_amount', 'Long', 'Lat'])\n",
    "\n",
    "# Check if the dataframe has any NaN or infinite values\n",
    "if df_clean.isnull().values.any():\n",
    "    df_clean.fillna(df_clean.mean(), inplace=True)\n",
    "\n",
    "if np.isinf(df_clean.values).any():\n",
    "    df_clean = df_clean.replace([np.inf, -np.inf], np.nan)\n",
    "    df_clean.fillna(df_clean.mean(), inplace=True)\n",
    "\n",
    "# Convert DataFrame to numpy array\n",
    "df_array = np.array(df_clean)\n",
    "\n",
    "from sklearn.preprocessing import StandardScaler\n",
    "from sklearn.ensemble import IsolationForest\n",
    "\n",
    "# Standardize the features to have mean=0 and variance=1\n",
    "scaler = StandardScaler().fit(df_array)\n",
    "df_scaled = scaler.transform(df_array)\n",
    "\n",
    "# Add a small constant to avoid division by zero during scaling\n",
    "df_scaled += 1e-10\n",
    "\n",
    "# Check for any remaining NaN values\n",
    "if np.isnan(df_scaled).any():\n",
    "    df_scaled = np.nan_to_num(df_scaled)\n",
    "\n",
    "# Train the model\n",
    "model = IsolationForest(contamination=0.01)\n",
    "model.fit(df_scaled)\n",
    "\n",
    "# Get anomaly scores and predictions\n",
    "scores = model.decision_function(df_scaled)\n",
    "anomalies = model.predict(df_scaled)\n",
    "\n",
    "# Add anomaly scores and predictions to original dataframe\n",
    "df['scores'] = scores\n",
    "df['anomaly'] = anomalies\n",
    "\n",
    "# Display rows considered as anomalies\n",
    "print(df[df['anomaly']==-1])"
   ],
   "metadata": {
    "collapsed": false
   }
  },
  {
   "cell_type": "code",
   "execution_count": 27,
   "outputs": [
    {
     "data": {
      "text/plain": "(294588, 2946)"
     },
     "execution_count": 27,
     "metadata": {},
     "output_type": "execute_result"
    }
   ],
   "source": [
    "len(df), len(df[df['anomaly']==-1])"
   ],
   "metadata": {
    "collapsed": false
   }
  }
 ],
 "metadata": {
  "kernelspec": {
   "display_name": "Python 3",
   "language": "python",
   "name": "python3"
  },
  "language_info": {
   "codemirror_mode": {
    "name": "ipython",
    "version": 2
   },
   "file_extension": ".py",
   "mimetype": "text/x-python",
   "name": "python",
   "nbconvert_exporter": "python",
   "pygments_lexer": "ipython2",
   "version": "2.7.6"
  }
 },
 "nbformat": 4,
 "nbformat_minor": 0
}
